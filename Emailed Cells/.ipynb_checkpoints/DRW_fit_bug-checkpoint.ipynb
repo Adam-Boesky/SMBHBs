{
 "cells": [
  {
   "cell_type": "code",
   "execution_count": 1,
   "metadata": {},
   "outputs": [],
   "source": [
    "import numpy as np\n",
    "import random\n",
    "from numpy import linalg\n",
    "import matplotlib.pyplot as plt"
   ]
  },
  {
   "cell_type": "markdown",
   "metadata": {},
   "source": [
    "A method to generate a series of times (in days) that would reflect realistic sample times from the Vera Rubin observatory given a duration of the gap in terms of days and a duration in terms of years"
   ]
  },
  {
   "cell_type": "code",
   "execution_count": 2,
   "metadata": {},
   "outputs": [],
   "source": [
    "def generate_spaced_times(space_duration, total_days):\n",
    "    # Generate a list of times that are approximately the given days apart\n",
    "    times_clean = np.linspace(0, total_days, int(total_days / space_duration))\n",
    "    variability = np.random.normal(0, 1, len(times_clean) - 1)\n",
    "    variability = np.insert(variability, 0, 0)\n",
    "    times = np.add(times_clean, variability)\n",
    "    \n",
    "    return times\n",
    "\n",
    "\n",
    "def generate_gap(times, gap_duration):\n",
    "    # Generate a random location each year at which the gap will take place\n",
    "    gap_beginning = random.randint(0, 365)\n",
    "    gap_end = gap_beginning + gap_duration\n",
    "    \n",
    "    # Generate a list that will be the values that each gap begins and then ends\n",
    "    intervals = [[gap_beginning, gap_end]]\n",
    "    while intervals[len(intervals) - 1][0] + 365 < np.max(times):\n",
    "        intervals.append([intervals[len(intervals) - 1][0] + 365, intervals[len(intervals) - 1][1] + 365])\n",
    "        \n",
    "    for interval in intervals:\n",
    "        times = [time for time in times if (interval[0] >= time <= interval[1]) or (interval[0] <= time >= interval[1])]\n",
    "    \n",
    "    return times\n",
    "\n",
    "\n",
    "def generate_Vera_Rubin_times(gap_duration, total_duration):\n",
    "    total_days = total_duration * 365 # The amount of days the light curve will be\n",
    "    \n",
    "    # Generate a list of times that are approximately 3 days apart\n",
    "    times = generate_spaced_times(3, total_days)\n",
    "    \n",
    "    # Delete the values in a random location of the times for a given gap\n",
    "    times_gapped = generate_gap(times, gap_duration)\n",
    "    times_gapped = sorted(times_gapped, key = lambda x:float(x)) \n",
    "    \n",
    "    return times_gapped"
   ]
  },
  {
   "cell_type": "markdown",
   "metadata": {},
   "source": [
    "A method to generate a DRW light curve"
   ]
  },
  {
   "cell_type": "code",
   "execution_count": 3,
   "metadata": {},
   "outputs": [],
   "source": [
    "def generate_DRW_LC(t_rest, sigma, tau, z):\n",
    "  # Account for redshift:\n",
    "  t_obs = []\n",
    "  \n",
    "  # Account for redshift\n",
    "  tau_rf = tau / (1 + z)\n",
    "\n",
    "  # Make first value of the light curve and declare a light curve list\n",
    "  lc1 = np.random.normal(0, sigma, None)\n",
    "  lc = [lc1]\n",
    "\n",
    "  # Fill the lightcurve list\n",
    "  for i in range(1, len(t_rest)):\n",
    "    dt = t_rest[i] - t_rest[i - 1]\n",
    "    lc_next = lc[i - 1] * np.exp(-dt / tau_rf) + np.random.normal(0, (sigma) * (1 - np.exp((-2 * dt) / tau_rf)), None)\n",
    "    lc.append(lc_next)\n",
    "  \n",
    "  return lc"
   ]
  },
  {
   "cell_type": "markdown",
   "metadata": {},
   "source": [
    "A method to fit DRWs to sigma and taus. We also have methods helper methods here"
   ]
  },
  {
   "cell_type": "code",
   "execution_count": 4,
   "metadata": {},
   "outputs": [],
   "source": [
    "def fit_DRW(t_rest, lc, z, steps):\n",
    "    best = None, None\n",
    "    loglikelihood = None\n",
    "    best_loglikelihood = None\n",
    "    for t in range(steps + 1):\n",
    "        for s in range(steps + 1):\n",
    "            sigma, tau = .1 + (s / steps) * 10, 1 + (t / steps) * 100\n",
    "            loglikelihood = get_loglikelihood(t_rest, lc, sigma, tau, 0)\n",
    "            if best_loglikelihood == None or loglikelihood > best_loglikelihood:\n",
    "                best_loglikelihood = loglikelihood\n",
    "                best = sigma, tau\n",
    "  \n",
    "    return best\n",
    "\n",
    "def get_loglikelihood(t_rest, lc, sigma, tau, z):\n",
    "    S = generate_cov_matrix(t_rest, sigma, tau) # Cov matrix of the lc\n",
    "    C_inv = linalg.inv(S) # Inverse of C (C = S + N) N is cov matrix of noise\n",
    "    L = np.zeros((len(t_rest), 1)) + 0.5 # Matrix of 0.5s\n",
    "    L_trans = np.transpose(L) # L transposed\n",
    "    y = np.zeros((len(t_rest), 1)) # Matrix of given light curve\n",
    "    y[:,0] = lc\n",
    "    y_trans = np.transpose(y) # y transposed\n",
    "    C_inv_up1 = C_inv \n",
    "    denom = np.matmul(np.matmul(L_trans, C_inv), L) # Denominator of likelihood equation\n",
    "    A = np.matmul(L_trans, C_inv)\n",
    "    B = np.matmul(C_inv,L)\n",
    "    C_inv_uptack = C_inv_up1 - np.matmul(B,A) / denom\n",
    "    expval = -1.0 * (np.matmul(np.matmul(y_trans, C_inv_uptack), y)) / 2\n",
    "    loglikelihood = np.log(pow(linalg.det(S), -1/2)) + np.log(pow(np.abs(denom), -1/2)) + expval \n",
    " \n",
    "    return loglikelihood[0][0]\n",
    "\n",
    "def generate_cov_matrix(t_rest, sigma, tau):\n",
    "    # Create a square matrix with # of columns and rows = len(t_rest)\n",
    "    matrix = np.zeros((len(t_rest),len(t_rest)))\n",
    "\n",
    "    # Fill in the matrix with equation describing the covariance\n",
    "    for i in range(len(t_rest)):\n",
    "        for j in range(len(t_rest)):\n",
    "            delta_t = abs(t_rest[i] - t_rest[j])\n",
    "            matrix[i][j] = sigma * sigma * np.exp(-1.0 * delta_t / tau) \n",
    "\n",
    "    return matrix"
   ]
  },
  {
   "cell_type": "markdown",
   "metadata": {},
   "source": [
    "Generate and fit a DRW"
   ]
  },
  {
   "cell_type": "code",
   "execution_count": 5,
   "metadata": {},
   "outputs": [
    {
     "name": "stderr",
     "output_type": "stream",
     "text": [
      "/Users/adamboesky/opt/anaconda3/lib/python3.7/site-packages/ipykernel_launcher.py:29: RuntimeWarning: divide by zero encountered in double_scalars\n",
      "/Users/adamboesky/opt/anaconda3/lib/python3.7/site-packages/numpy/linalg/linalg.py:2116: RuntimeWarning: overflow encountered in det\n",
      "  r = _umath_linalg.det(a, signature=signature)\n",
      "/Users/adamboesky/opt/anaconda3/lib/python3.7/site-packages/ipykernel_launcher.py:29: RuntimeWarning: divide by zero encountered in log\n"
     ]
    },
    {
     "ename": "KeyboardInterrupt",
     "evalue": "",
     "output_type": "error",
     "traceback": [
      "\u001b[0;31m---------------------------------------------------------------------------\u001b[0m",
      "\u001b[0;31mKeyboardInterrupt\u001b[0m                         Traceback (most recent call last)",
      "\u001b[0;32m<ipython-input-5-67a9cae802c6>\u001b[0m in \u001b[0;36m<module>\u001b[0;34m\u001b[0m\n\u001b[1;32m      3\u001b[0m \u001b[0;34m\u001b[0m\u001b[0m\n\u001b[1;32m      4\u001b[0m \u001b[0mlc\u001b[0m \u001b[0;34m=\u001b[0m \u001b[0mgenerate_DRW_LC\u001b[0m\u001b[0;34m(\u001b[0m\u001b[0mtimes_VR\u001b[0m\u001b[0;34m,\u001b[0m \u001b[0msigma\u001b[0m\u001b[0;34m,\u001b[0m \u001b[0mtau\u001b[0m\u001b[0;34m,\u001b[0m \u001b[0;36m0\u001b[0m\u001b[0;34m)\u001b[0m\u001b[0;34m\u001b[0m\u001b[0;34m\u001b[0m\u001b[0m\n\u001b[0;32m----> 5\u001b[0;31m \u001b[0msigma_est\u001b[0m\u001b[0;34m,\u001b[0m \u001b[0mtau_est\u001b[0m \u001b[0;34m=\u001b[0m \u001b[0mfit_DRW\u001b[0m\u001b[0;34m(\u001b[0m\u001b[0mtimes_VR\u001b[0m\u001b[0;34m,\u001b[0m \u001b[0mlc\u001b[0m\u001b[0;34m,\u001b[0m \u001b[0;36m0\u001b[0m\u001b[0;34m,\u001b[0m \u001b[0;36m35\u001b[0m\u001b[0;34m)\u001b[0m\u001b[0;34m\u001b[0m\u001b[0;34m\u001b[0m\u001b[0m\n\u001b[0m\u001b[1;32m      6\u001b[0m \u001b[0mprint\u001b[0m\u001b[0;34m(\u001b[0m\u001b[0;34m'Sigmas: '\u001b[0m\u001b[0;34m,\u001b[0m \u001b[0msigma\u001b[0m\u001b[0;34m,\u001b[0m \u001b[0msigma_est\u001b[0m\u001b[0;34m)\u001b[0m\u001b[0;34m\u001b[0m\u001b[0;34m\u001b[0m\u001b[0m\n\u001b[1;32m      7\u001b[0m \u001b[0mprint\u001b[0m\u001b[0;34m(\u001b[0m\u001b[0;34m'Taus: '\u001b[0m\u001b[0;34m,\u001b[0m \u001b[0mtau\u001b[0m\u001b[0;34m,\u001b[0m \u001b[0mtau_est\u001b[0m\u001b[0;34m)\u001b[0m\u001b[0;34m\u001b[0m\u001b[0;34m\u001b[0m\u001b[0m\n",
      "\u001b[0;32m<ipython-input-4-fb597dbe793b>\u001b[0m in \u001b[0;36mfit_DRW\u001b[0;34m(t_rest, lc, z, steps)\u001b[0m\n\u001b[1;32m      6\u001b[0m         \u001b[0;32mfor\u001b[0m \u001b[0ms\u001b[0m \u001b[0;32min\u001b[0m \u001b[0mrange\u001b[0m\u001b[0;34m(\u001b[0m\u001b[0msteps\u001b[0m \u001b[0;34m+\u001b[0m \u001b[0;36m1\u001b[0m\u001b[0;34m)\u001b[0m\u001b[0;34m:\u001b[0m\u001b[0;34m\u001b[0m\u001b[0;34m\u001b[0m\u001b[0m\n\u001b[1;32m      7\u001b[0m             \u001b[0msigma\u001b[0m\u001b[0;34m,\u001b[0m \u001b[0mtau\u001b[0m \u001b[0;34m=\u001b[0m \u001b[0;36m.1\u001b[0m \u001b[0;34m+\u001b[0m \u001b[0;34m(\u001b[0m\u001b[0ms\u001b[0m \u001b[0;34m/\u001b[0m \u001b[0msteps\u001b[0m\u001b[0;34m)\u001b[0m \u001b[0;34m*\u001b[0m \u001b[0;36m10\u001b[0m\u001b[0;34m,\u001b[0m \u001b[0;36m1\u001b[0m \u001b[0;34m+\u001b[0m \u001b[0;34m(\u001b[0m\u001b[0mt\u001b[0m \u001b[0;34m/\u001b[0m \u001b[0msteps\u001b[0m\u001b[0;34m)\u001b[0m \u001b[0;34m*\u001b[0m \u001b[0;36m100\u001b[0m\u001b[0;34m\u001b[0m\u001b[0;34m\u001b[0m\u001b[0m\n\u001b[0;32m----> 8\u001b[0;31m             \u001b[0mloglikelihood\u001b[0m \u001b[0;34m=\u001b[0m \u001b[0mget_loglikelihood\u001b[0m\u001b[0;34m(\u001b[0m\u001b[0mt_rest\u001b[0m\u001b[0;34m,\u001b[0m \u001b[0mlc\u001b[0m\u001b[0;34m,\u001b[0m \u001b[0msigma\u001b[0m\u001b[0;34m,\u001b[0m \u001b[0mtau\u001b[0m\u001b[0;34m,\u001b[0m \u001b[0;36m0\u001b[0m\u001b[0;34m)\u001b[0m\u001b[0;34m\u001b[0m\u001b[0;34m\u001b[0m\u001b[0m\n\u001b[0m\u001b[1;32m      9\u001b[0m             \u001b[0;32mif\u001b[0m \u001b[0mbest_loglikelihood\u001b[0m \u001b[0;34m==\u001b[0m \u001b[0;32mNone\u001b[0m \u001b[0;32mor\u001b[0m \u001b[0mloglikelihood\u001b[0m \u001b[0;34m>\u001b[0m \u001b[0mbest_loglikelihood\u001b[0m\u001b[0;34m:\u001b[0m\u001b[0;34m\u001b[0m\u001b[0;34m\u001b[0m\u001b[0m\n\u001b[1;32m     10\u001b[0m                 \u001b[0mbest_loglikelihood\u001b[0m \u001b[0;34m=\u001b[0m \u001b[0mloglikelihood\u001b[0m\u001b[0;34m\u001b[0m\u001b[0;34m\u001b[0m\u001b[0m\n",
      "\u001b[0;32m<ipython-input-4-fb597dbe793b>\u001b[0m in \u001b[0;36mget_loglikelihood\u001b[0;34m(t_rest, lc, sigma, tau, z)\u001b[0m\n\u001b[1;32m     14\u001b[0m \u001b[0;34m\u001b[0m\u001b[0m\n\u001b[1;32m     15\u001b[0m \u001b[0;32mdef\u001b[0m \u001b[0mget_loglikelihood\u001b[0m\u001b[0;34m(\u001b[0m\u001b[0mt_rest\u001b[0m\u001b[0;34m,\u001b[0m \u001b[0mlc\u001b[0m\u001b[0;34m,\u001b[0m \u001b[0msigma\u001b[0m\u001b[0;34m,\u001b[0m \u001b[0mtau\u001b[0m\u001b[0;34m,\u001b[0m \u001b[0mz\u001b[0m\u001b[0;34m)\u001b[0m\u001b[0;34m:\u001b[0m\u001b[0;34m\u001b[0m\u001b[0;34m\u001b[0m\u001b[0m\n\u001b[0;32m---> 16\u001b[0;31m     \u001b[0mS\u001b[0m \u001b[0;34m=\u001b[0m \u001b[0mgenerate_cov_matrix\u001b[0m\u001b[0;34m(\u001b[0m\u001b[0mt_rest\u001b[0m\u001b[0;34m,\u001b[0m \u001b[0msigma\u001b[0m\u001b[0;34m,\u001b[0m \u001b[0mtau\u001b[0m\u001b[0;34m)\u001b[0m \u001b[0;31m# Cov matrix of the lc\u001b[0m\u001b[0;34m\u001b[0m\u001b[0;34m\u001b[0m\u001b[0m\n\u001b[0m\u001b[1;32m     17\u001b[0m     \u001b[0mC_inv\u001b[0m \u001b[0;34m=\u001b[0m \u001b[0mlinalg\u001b[0m\u001b[0;34m.\u001b[0m\u001b[0minv\u001b[0m\u001b[0;34m(\u001b[0m\u001b[0mS\u001b[0m\u001b[0;34m)\u001b[0m \u001b[0;31m# Inverse of C (C = S + N) N is cov matrix of noise\u001b[0m\u001b[0;34m\u001b[0m\u001b[0;34m\u001b[0m\u001b[0m\n\u001b[1;32m     18\u001b[0m     \u001b[0mL\u001b[0m \u001b[0;34m=\u001b[0m \u001b[0mnp\u001b[0m\u001b[0;34m.\u001b[0m\u001b[0mzeros\u001b[0m\u001b[0;34m(\u001b[0m\u001b[0;34m(\u001b[0m\u001b[0mlen\u001b[0m\u001b[0;34m(\u001b[0m\u001b[0mt_rest\u001b[0m\u001b[0;34m)\u001b[0m\u001b[0;34m,\u001b[0m \u001b[0;36m1\u001b[0m\u001b[0;34m)\u001b[0m\u001b[0;34m)\u001b[0m \u001b[0;34m+\u001b[0m \u001b[0;36m0.5\u001b[0m \u001b[0;31m# Matrix of 0.5s\u001b[0m\u001b[0;34m\u001b[0m\u001b[0;34m\u001b[0m\u001b[0m\n",
      "\u001b[0;32m<ipython-input-4-fb597dbe793b>\u001b[0m in \u001b[0;36mgenerate_cov_matrix\u001b[0;34m(t_rest, sigma, tau)\u001b[0m\n\u001b[1;32m     39\u001b[0m         \u001b[0;32mfor\u001b[0m \u001b[0mj\u001b[0m \u001b[0;32min\u001b[0m \u001b[0mrange\u001b[0m\u001b[0;34m(\u001b[0m\u001b[0mlen\u001b[0m\u001b[0;34m(\u001b[0m\u001b[0mt_rest\u001b[0m\u001b[0;34m)\u001b[0m\u001b[0;34m)\u001b[0m\u001b[0;34m:\u001b[0m\u001b[0;34m\u001b[0m\u001b[0;34m\u001b[0m\u001b[0m\n\u001b[1;32m     40\u001b[0m             \u001b[0mdelta_t\u001b[0m \u001b[0;34m=\u001b[0m \u001b[0mabs\u001b[0m\u001b[0;34m(\u001b[0m\u001b[0mt_rest\u001b[0m\u001b[0;34m[\u001b[0m\u001b[0mi\u001b[0m\u001b[0;34m]\u001b[0m \u001b[0;34m-\u001b[0m \u001b[0mt_rest\u001b[0m\u001b[0;34m[\u001b[0m\u001b[0mj\u001b[0m\u001b[0;34m]\u001b[0m\u001b[0;34m)\u001b[0m\u001b[0;34m\u001b[0m\u001b[0;34m\u001b[0m\u001b[0m\n\u001b[0;32m---> 41\u001b[0;31m             \u001b[0mmatrix\u001b[0m\u001b[0;34m[\u001b[0m\u001b[0mi\u001b[0m\u001b[0;34m]\u001b[0m\u001b[0;34m[\u001b[0m\u001b[0mj\u001b[0m\u001b[0;34m]\u001b[0m \u001b[0;34m=\u001b[0m \u001b[0msigma\u001b[0m \u001b[0;34m*\u001b[0m \u001b[0msigma\u001b[0m \u001b[0;34m*\u001b[0m \u001b[0mnp\u001b[0m\u001b[0;34m.\u001b[0m\u001b[0mexp\u001b[0m\u001b[0;34m(\u001b[0m\u001b[0;34m-\u001b[0m\u001b[0;36m1.0\u001b[0m \u001b[0;34m*\u001b[0m \u001b[0mdelta_t\u001b[0m \u001b[0;34m/\u001b[0m \u001b[0mtau\u001b[0m\u001b[0;34m)\u001b[0m\u001b[0;34m\u001b[0m\u001b[0;34m\u001b[0m\u001b[0m\n\u001b[0m\u001b[1;32m     42\u001b[0m \u001b[0;34m\u001b[0m\u001b[0m\n\u001b[1;32m     43\u001b[0m     \u001b[0;32mreturn\u001b[0m \u001b[0mmatrix\u001b[0m\u001b[0;34m\u001b[0m\u001b[0;34m\u001b[0m\u001b[0m\n",
      "\u001b[0;31mKeyboardInterrupt\u001b[0m: "
     ]
    }
   ],
   "source": [
    "sigma, tau = 2.0, 10\n",
    "times_VR = generate_Vera_Rubin_times(100, 10)\n",
    "\n",
    "lc = generate_DRW_LC(times_VR, sigma, tau, 0)\n",
    "sigma_est, tau_est = fit_DRW(times_VR, lc, 0, 35)\n",
    "print('Sigmas: ', sigma, sigma_est)\n",
    "print('Taus: ', tau, tau_est)\n",
    "\n",
    "plt.plot(times_VR, lc)\n",
    "plt.plot(times_VR, generate_DRW_LC(times_VR, sigma_est, tau_est, 2), 'r')\n",
    "plt.title(\"DRW Fit\")\n",
    "plt.show"
   ]
  }
 ],
 "metadata": {
  "kernelspec": {
   "display_name": "Python 3",
   "language": "python",
   "name": "python3"
  },
  "language_info": {
   "codemirror_mode": {
    "name": "ipython",
    "version": 3
   },
   "file_extension": ".py",
   "mimetype": "text/x-python",
   "name": "python",
   "nbconvert_exporter": "python",
   "pygments_lexer": "ipython3",
   "version": "3.7.6"
  }
 },
 "nbformat": 4,
 "nbformat_minor": 4
}
